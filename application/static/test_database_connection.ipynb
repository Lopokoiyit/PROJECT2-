{
 "cells": [
  {
   "cell_type": "code",
   "execution_count": 14,
   "metadata": {},
   "outputs": [],
   "source": [
    "import json\n",
    "from flask import Flask, jsonify, render_template\n",
    "from requests import session\n",
    "import sqlalchemy\n",
    "from sqlalchemy import inspect\n",
    "from sqlalchemy import create_engine\n",
    "import pandas as pd\n",
    "import psycopg2\n",
    "import sys\n"
   ]
  },
  {
   "cell_type": "code",
   "execution_count": 15,
   "metadata": {},
   "outputs": [],
   "source": [
    "\n",
    "def getview(population_consumption):\n",
    "    con = psycopg2.connect(\"host='localhost' dbname='australian_energy_db' user='postgres' password='postgres'\")  \n",
    "    cur = con.cursor()\n",
    "    cur.execute(f'select * from  {population_consumption}')\n",
    "    view = cur.fetchall()\n",
    "    headings = [x[0] for x in cur.description]\n",
    "    d3_view=[]\n",
    "    \n",
    "    for array in view:\n",
    "        row = dict(zip(headings, array))\n",
    "        d3_view.append(row)\n",
    "    cur.close()\n",
    "\n",
    "    return d3_view\n",
    "\n"
   ]
  },
  {
   "cell_type": "code",
   "execution_count": 16,
   "metadata": {},
   "outputs": [
    {
     "ename": "RuntimeError",
     "evalue": "Working outside of application context.\n\nThis typically means that you attempted to use functionality that needed\nto interface with the current application object in some way. To solve\nthis, set up an application context with app.app_context().  See the\ndocumentation for more information.",
     "output_type": "error",
     "traceback": [
      "\u001b[1;31m---------------------------------------------------------------------------\u001b[0m",
      "\u001b[1;31mRuntimeError\u001b[0m                              Traceback (most recent call last)",
      "\u001b[1;32m~\\AppData\\Local\\Temp/ipykernel_12900/579913642.py\u001b[0m in \u001b[0;36m<module>\u001b[1;34m\u001b[0m\n\u001b[0;32m      4\u001b[0m     \u001b[1;32mreturn\u001b[0m \u001b[0mjsonify\u001b[0m\u001b[1;33m(\u001b[0m\u001b[0md3_view\u001b[0m\u001b[1;33m)\u001b[0m\u001b[1;33m\u001b[0m\u001b[1;33m\u001b[0m\u001b[0m\n\u001b[0;32m      5\u001b[0m \u001b[1;33m\u001b[0m\u001b[0m\n\u001b[1;32m----> 6\u001b[1;33m \u001b[0mdb_test\u001b[0m\u001b[1;33m(\u001b[0m\u001b[1;33m)\u001b[0m\u001b[1;33m\u001b[0m\u001b[1;33m\u001b[0m\u001b[0m\n\u001b[0m",
      "\u001b[1;32m~\\AppData\\Local\\Temp/ipykernel_12900/579913642.py\u001b[0m in \u001b[0;36mdb_test\u001b[1;34m()\u001b[0m\n\u001b[0;32m      2\u001b[0m     \u001b[0mview_name\u001b[0m \u001b[1;33m=\u001b[0m \u001b[1;34m\"population_consumption\"\u001b[0m\u001b[1;33m\u001b[0m\u001b[1;33m\u001b[0m\u001b[0m\n\u001b[0;32m      3\u001b[0m     \u001b[0md3_view\u001b[0m \u001b[1;33m=\u001b[0m \u001b[0mgetview\u001b[0m\u001b[1;33m(\u001b[0m\u001b[0mview_name\u001b[0m\u001b[1;33m)\u001b[0m\u001b[1;33m\u001b[0m\u001b[1;33m\u001b[0m\u001b[0m\n\u001b[1;32m----> 4\u001b[1;33m     \u001b[1;32mreturn\u001b[0m \u001b[0mjsonify\u001b[0m\u001b[1;33m(\u001b[0m\u001b[0md3_view\u001b[0m\u001b[1;33m)\u001b[0m\u001b[1;33m\u001b[0m\u001b[1;33m\u001b[0m\u001b[0m\n\u001b[0m\u001b[0;32m      5\u001b[0m \u001b[1;33m\u001b[0m\u001b[0m\n\u001b[0;32m      6\u001b[0m \u001b[0mdb_test\u001b[0m\u001b[1;33m(\u001b[0m\u001b[1;33m)\u001b[0m\u001b[1;33m\u001b[0m\u001b[1;33m\u001b[0m\u001b[0m\n",
      "\u001b[1;32mf:\\Anaconda\\lib\\site-packages\\flask\\json\\__init__.py\u001b[0m in \u001b[0;36mjsonify\u001b[1;34m(*args, **kwargs)\u001b[0m\n\u001b[0;32m    356\u001b[0m     \u001b[0mseparators\u001b[0m \u001b[1;33m=\u001b[0m \u001b[1;33m(\u001b[0m\u001b[1;34m\",\"\u001b[0m\u001b[1;33m,\u001b[0m \u001b[1;34m\":\"\u001b[0m\u001b[1;33m)\u001b[0m\u001b[1;33m\u001b[0m\u001b[1;33m\u001b[0m\u001b[0m\n\u001b[0;32m    357\u001b[0m \u001b[1;33m\u001b[0m\u001b[0m\n\u001b[1;32m--> 358\u001b[1;33m     \u001b[1;32mif\u001b[0m \u001b[0mcurrent_app\u001b[0m\u001b[1;33m.\u001b[0m\u001b[0mconfig\u001b[0m\u001b[1;33m[\u001b[0m\u001b[1;34m\"JSONIFY_PRETTYPRINT_REGULAR\"\u001b[0m\u001b[1;33m]\u001b[0m \u001b[1;32mor\u001b[0m \u001b[0mcurrent_app\u001b[0m\u001b[1;33m.\u001b[0m\u001b[0mdebug\u001b[0m\u001b[1;33m:\u001b[0m\u001b[1;33m\u001b[0m\u001b[1;33m\u001b[0m\u001b[0m\n\u001b[0m\u001b[0;32m    359\u001b[0m         \u001b[0mindent\u001b[0m \u001b[1;33m=\u001b[0m \u001b[1;36m2\u001b[0m\u001b[1;33m\u001b[0m\u001b[1;33m\u001b[0m\u001b[0m\n\u001b[0;32m    360\u001b[0m         \u001b[0mseparators\u001b[0m \u001b[1;33m=\u001b[0m \u001b[1;33m(\u001b[0m\u001b[1;34m\", \"\u001b[0m\u001b[1;33m,\u001b[0m \u001b[1;34m\": \"\u001b[0m\u001b[1;33m)\u001b[0m\u001b[1;33m\u001b[0m\u001b[1;33m\u001b[0m\u001b[0m\n",
      "\u001b[1;32mf:\\Anaconda\\lib\\site-packages\\werkzeug\\local.py\u001b[0m in \u001b[0;36m__get__\u001b[1;34m(self, instance, owner)\u001b[0m\n\u001b[0;32m    430\u001b[0m \u001b[1;33m\u001b[0m\u001b[0m\n\u001b[0;32m    431\u001b[0m         \u001b[1;32mtry\u001b[0m\u001b[1;33m:\u001b[0m\u001b[1;33m\u001b[0m\u001b[1;33m\u001b[0m\u001b[0m\n\u001b[1;32m--> 432\u001b[1;33m             \u001b[0mobj\u001b[0m \u001b[1;33m=\u001b[0m \u001b[0minstance\u001b[0m\u001b[1;33m.\u001b[0m\u001b[0m_get_current_object\u001b[0m\u001b[1;33m(\u001b[0m\u001b[1;33m)\u001b[0m\u001b[1;33m\u001b[0m\u001b[1;33m\u001b[0m\u001b[0m\n\u001b[0m\u001b[0;32m    433\u001b[0m         \u001b[1;32mexcept\u001b[0m \u001b[0mRuntimeError\u001b[0m\u001b[1;33m:\u001b[0m\u001b[1;33m\u001b[0m\u001b[1;33m\u001b[0m\u001b[0m\n\u001b[0;32m    434\u001b[0m             \u001b[1;32mif\u001b[0m \u001b[0mself\u001b[0m\u001b[1;33m.\u001b[0m\u001b[0mfallback\u001b[0m \u001b[1;32mis\u001b[0m \u001b[1;32mNone\u001b[0m\u001b[1;33m:\u001b[0m\u001b[1;33m\u001b[0m\u001b[1;33m\u001b[0m\u001b[0m\n",
      "\u001b[1;32mf:\\Anaconda\\lib\\site-packages\\werkzeug\\local.py\u001b[0m in \u001b[0;36m_get_current_object\u001b[1;34m(self)\u001b[0m\n\u001b[0;32m    552\u001b[0m         \"\"\"\n\u001b[0;32m    553\u001b[0m         \u001b[1;32mif\u001b[0m \u001b[1;32mnot\u001b[0m \u001b[0mhasattr\u001b[0m\u001b[1;33m(\u001b[0m\u001b[0mself\u001b[0m\u001b[1;33m.\u001b[0m\u001b[0m__local\u001b[0m\u001b[1;33m,\u001b[0m \u001b[1;34m\"__release_local__\"\u001b[0m\u001b[1;33m)\u001b[0m\u001b[1;33m:\u001b[0m  \u001b[1;31m# type: ignore\u001b[0m\u001b[1;33m\u001b[0m\u001b[1;33m\u001b[0m\u001b[0m\n\u001b[1;32m--> 554\u001b[1;33m             \u001b[1;32mreturn\u001b[0m \u001b[0mself\u001b[0m\u001b[1;33m.\u001b[0m\u001b[0m__local\u001b[0m\u001b[1;33m(\u001b[0m\u001b[1;33m)\u001b[0m  \u001b[1;31m# type: ignore\u001b[0m\u001b[1;33m\u001b[0m\u001b[1;33m\u001b[0m\u001b[0m\n\u001b[0m\u001b[0;32m    555\u001b[0m \u001b[1;33m\u001b[0m\u001b[0m\n\u001b[0;32m    556\u001b[0m         \u001b[1;32mtry\u001b[0m\u001b[1;33m:\u001b[0m\u001b[1;33m\u001b[0m\u001b[1;33m\u001b[0m\u001b[0m\n",
      "\u001b[1;32mf:\\Anaconda\\lib\\site-packages\\flask\\globals.py\u001b[0m in \u001b[0;36m_find_app\u001b[1;34m()\u001b[0m\n\u001b[0;32m     50\u001b[0m     \u001b[0mtop\u001b[0m \u001b[1;33m=\u001b[0m \u001b[0m_app_ctx_stack\u001b[0m\u001b[1;33m.\u001b[0m\u001b[0mtop\u001b[0m\u001b[1;33m\u001b[0m\u001b[1;33m\u001b[0m\u001b[0m\n\u001b[0;32m     51\u001b[0m     \u001b[1;32mif\u001b[0m \u001b[0mtop\u001b[0m \u001b[1;32mis\u001b[0m \u001b[1;32mNone\u001b[0m\u001b[1;33m:\u001b[0m\u001b[1;33m\u001b[0m\u001b[1;33m\u001b[0m\u001b[0m\n\u001b[1;32m---> 52\u001b[1;33m         \u001b[1;32mraise\u001b[0m \u001b[0mRuntimeError\u001b[0m\u001b[1;33m(\u001b[0m\u001b[0m_app_ctx_err_msg\u001b[0m\u001b[1;33m)\u001b[0m\u001b[1;33m\u001b[0m\u001b[1;33m\u001b[0m\u001b[0m\n\u001b[0m\u001b[0;32m     53\u001b[0m     \u001b[1;32mreturn\u001b[0m \u001b[0mtop\u001b[0m\u001b[1;33m.\u001b[0m\u001b[0mapp\u001b[0m\u001b[1;33m\u001b[0m\u001b[1;33m\u001b[0m\u001b[0m\n\u001b[0;32m     54\u001b[0m \u001b[1;33m\u001b[0m\u001b[0m\n",
      "\u001b[1;31mRuntimeError\u001b[0m: Working outside of application context.\n\nThis typically means that you attempted to use functionality that needed\nto interface with the current application object in some way. To solve\nthis, set up an application context with app.app_context().  See the\ndocumentation for more information."
     ]
    }
   ],
   "source": [
    "\n",
    "def db_test():\n",
    "    view_name = \"population_consumption\"\n",
    "    d3_view = getview(view_name)\n",
    "    return jsonify(d3_view)\n",
    "    \n",
    "db_test()\n"
   ]
  },
  {
   "cell_type": "code",
   "execution_count": null,
   "metadata": {},
   "outputs": [
    {
     "name": "stdout",
     "output_type": "stream",
     "text": [
      "[{'financial_year': '2008-09', 'state': 'VIC', 'population': 5371934, 'energy_consumption_pj': 1428.4}, {'financial_year': '2008-09', 'state': 'NSW', 'population': 7408540, 'energy_consumption_pj': 1593.5}, {'financial_year': '2008-09', 'state': 'QLD', 'population': 4328771, 'energy_consumption_pj': 1345.7}, {'financial_year': '2008-09', 'state': 'WA', 'population': 2240250, 'energy_consumption_pj': 917.4}, {'financial_year': '2008-09', 'state': 'SA', 'population': 1608902, 'energy_consumption_pj': 357.2}, {'financial_year': '2008-09', 'state': 'TAS', 'population': 504353, 'energy_consumption_pj': 113.8}, {'financial_year': '2008-09', 'state': 'NT', 'population': 226027, 'energy_consumption_pj': 95.0}, {'financial_year': '2009-10', 'state': 'VIC', 'population': 5461101, 'energy_consumption_pj': 1433.5}, {'financial_year': '2009-10', 'state': 'NSW', 'population': 7506058, 'energy_consumption_pj': 1645.3}, {'financial_year': '2009-10', 'state': 'QLD', 'population': 4404744, 'energy_consumption_pj': 1294.4}, {'financial_year': '2009-10', 'state': 'WA', 'population': 2290845, 'energy_consumption_pj': 905.9}, {'financial_year': '2009-10', 'state': 'SA', 'population': 1627322, 'energy_consumption_pj': 343.7}, {'financial_year': '2009-10', 'state': 'TAS', 'population': 508847, 'energy_consumption_pj': 113.7}, {'financial_year': '2009-10', 'state': 'NT', 'population': 229778, 'energy_consumption_pj': 94.2}, {'financial_year': '2010-11', 'state': 'VIC', 'population': 5537817, 'energy_consumption_pj': 1455.7}, {'financial_year': '2010-11', 'state': 'NSW', 'population': 7586514, 'energy_consumption_pj': 1668.0}, {'financial_year': '2010-11', 'state': 'QLD', 'population': 4476778, 'energy_consumption_pj': 1249.6}, {'financial_year': '2010-11', 'state': 'WA', 'population': 2353409, 'energy_consumption_pj': 980.4}, {'financial_year': '2010-11', 'state': 'SA', 'population': 1639614, 'energy_consumption_pj': 342.8}, {'financial_year': '2010-11', 'state': 'TAS', 'population': 511483, 'energy_consumption_pj': 113.8}, {'financial_year': '2010-11', 'state': 'NT', 'population': 231292, 'energy_consumption_pj': 99.8}, {'financial_year': '2011-12', 'state': 'VIC', 'population': 5651091, 'energy_consumption_pj': 1464.4}, {'financial_year': '2011-12', 'state': 'NSW', 'population': 7680783, 'energy_consumption_pj': 1621.3}, {'financial_year': '2011-12', 'state': 'QLD', 'population': 4568687, 'energy_consumption_pj': 1314.8}, {'financial_year': '2011-12', 'state': 'WA', 'population': 2425507, 'energy_consumption_pj': 982.2}, {'financial_year': '2011-12', 'state': 'SA', 'population': 1656725, 'energy_consumption_pj': 307.7}, {'financial_year': '2011-12', 'state': 'TAS', 'population': 511724, 'energy_consumption_pj': 107.0}, {'financial_year': '2011-12', 'state': 'NT', 'population': 235915, 'energy_consumption_pj': 98.2}, {'financial_year': '2012-13', 'state': 'VIC', 'population': 5772669, 'energy_consumption_pj': 1429.3}, {'financial_year': '2012-13', 'state': 'NSW', 'population': 7787289, 'energy_consumption_pj': 1568.4}, {'financial_year': '2012-13', 'state': 'QLD', 'population': 4652824, 'energy_consumption_pj': 1334.8}, {'financial_year': '2012-13', 'state': 'WA', 'population': 2486944, 'energy_consumption_pj': 1019.5}, {'financial_year': '2012-13', 'state': 'SA', 'population': 1671488, 'energy_consumption_pj': 356.3}, {'financial_year': '2012-13', 'state': 'TAS', 'population': 512231, 'energy_consumption_pj': 112.3}, {'financial_year': '2012-13', 'state': 'NT', 'population': 241722, 'energy_consumption_pj': 100.2}, {'financial_year': '2013-14', 'state': 'VIC', 'population': 5894917, 'energy_consumption_pj': 1397.7}, {'financial_year': '2013-14', 'state': 'NSW', 'population': 7897152, 'energy_consumption_pj': 1526.5}, {'financial_year': '2013-14', 'state': 'QLD', 'population': 4719653, 'energy_consumption_pj': 1338.9}, {'financial_year': '2013-14', 'state': 'WA', 'population': 2517608, 'energy_consumption_pj': 1066.6}, {'financial_year': '2013-14', 'state': 'SA', 'population': 1686945, 'energy_consumption_pj': 337.1}, {'financial_year': '2013-14', 'state': 'TAS', 'population': 513621, 'energy_consumption_pj': 108.0}, {'financial_year': '2013-14', 'state': 'NT', 'population': 242894, 'energy_consumption_pj': 99.1}, {'financial_year': '2014-15', 'state': 'VIC', 'population': 6022322, 'energy_consumption_pj': 1394.4}, {'financial_year': '2014-15', 'state': 'NSW', 'population': 8011981, 'energy_consumption_pj': 1478.8}, {'financial_year': '2014-15', 'state': 'QLD', 'population': 4777692, 'energy_consumption_pj': 1436.1}, {'financial_year': '2014-15', 'state': 'WA', 'population': 2540672, 'energy_consumption_pj': 1045.4}, {'financial_year': '2014-15', 'state': 'SA', 'population': 1700668, 'energy_consumption_pj': 356.9}, {'financial_year': '2014-15', 'state': 'TAS', 'population': 515117, 'energy_consumption_pj': 104.9}, {'financial_year': '2014-15', 'state': 'NT', 'population': 244692, 'energy_consumption_pj': 84.0}, {'financial_year': '2015-16', 'state': 'VIC', 'population': 6173172, 'energy_consumption_pj': 1416.9}, {'financial_year': '2015-16', 'state': 'NSW', 'population': 8135962, 'energy_consumption_pj': 1524.3}, {'financial_year': '2015-16', 'state': 'QLD', 'population': 4845152, 'energy_consumption_pj': 1464.6}, {'financial_year': '2015-16', 'state': 'WA', 'population': 2555978, 'energy_consumption_pj': 1123.9}, {'financial_year': '2015-16', 'state': 'SA', 'population': 1712843, 'energy_consumption_pj': 316.4}, {'financial_year': '2015-16', 'state': 'TAS', 'population': 517514, 'energy_consumption_pj': 107.1}, {'financial_year': '2015-16', 'state': 'NT', 'population': 245678, 'energy_consumption_pj': 83.9}, {'financial_year': '2016-17', 'state': 'VIC', 'population': 6299798, 'energy_consumption_pj': 1388.1}, {'financial_year': '2016-17', 'state': 'NSW', 'population': 8267695, 'energy_consumption_pj': 1533.0}, {'financial_year': '2016-17', 'state': 'QLD', 'population': 4928374, 'energy_consumption_pj': 1531.9}, {'financial_year': '2016-17', 'state': 'WA', 'population': 2587577, 'energy_consumption_pj': 1177.0}, {'financial_year': '2016-17', 'state': 'SA', 'population': 1729608, 'energy_consumption_pj': 287.4}, {'financial_year': '2016-17', 'state': 'TAS', 'population': 528324, 'energy_consumption_pj': 107.5}, {'financial_year': '2016-17', 'state': 'NT', 'population': 248161, 'energy_consumption_pj': 83.3}, {'financial_year': '2017-18', 'state': 'VIC', 'population': 6418168, 'energy_consumption_pj': 1314.1}, {'financial_year': '2017-18', 'state': 'NSW', 'population': 8375720, 'energy_consumption_pj': 1564.7}, {'financial_year': '2017-18', 'state': 'QLD', 'population': 5010502, 'energy_consumption_pj': 1547.8}, {'financial_year': '2017-18', 'state': 'WA', 'population': 2621052, 'energy_consumption_pj': 1209.9}, {'financial_year': '2017-18', 'state': 'SA', 'population': 1748010, 'energy_consumption_pj': 334.6}, {'financial_year': '2017-18', 'state': 'TAS', 'population': 540112, 'energy_consumption_pj': 110.5}, {'financial_year': '2017-18', 'state': 'NT', 'population': 248363, 'energy_consumption_pj': 90.2}, {'financial_year': '2018-19', 'state': 'VIC', 'population': 6530852, 'energy_consumption_pj': 1279.5}, {'financial_year': '2018-19', 'state': 'NSW', 'population': 8475582, 'energy_consumption_pj': 1555.6}, {'financial_year': '2018-19', 'state': 'QLD', 'population': 5094718, 'energy_consumption_pj': 1520.2}, {'financial_year': '2018-19', 'state': 'WA', 'population': 2663795, 'energy_consumption_pj': 1264.7}, {'financial_year': '2018-19', 'state': 'SA', 'population': 1770048, 'energy_consumption_pj': 326.9}, {'financial_year': '2018-19', 'state': 'TAS', 'population': 552310, 'energy_consumption_pj': 108.2}, {'financial_year': '2018-19', 'state': 'NT', 'population': 248153, 'energy_consumption_pj': 133.0}, {'financial_year': '2019-20', 'state': 'VIC', 'population': 6606149, 'energy_consumption_pj': 1213.3}, {'financial_year': '2019-20', 'state': 'NSW', 'population': 8544949, 'energy_consumption_pj': 1477.8}, {'financial_year': '2019-20', 'state': 'QLD', 'population': 5175003, 'energy_consumption_pj': 1478.7}, {'financial_year': '2019-20', 'state': 'WA', 'population': 2718400, 'energy_consumption_pj': 1268.1}, {'financial_year': '2019-20', 'state': 'SA', 'population': 1793547, 'energy_consumption_pj': 319.5}, {'financial_year': '2019-20', 'state': 'TAS', 'population': 563507, 'energy_consumption_pj': 100.1}, {'financial_year': '2019-20', 'state': 'NT', 'population': 248943, 'energy_consumption_pj': 146.5}, {'financial_year': '2020-21', 'state': 'VIC', 'population': 6548040, 'energy_consumption_pj': 1136.2}, {'financial_year': '2020-21', 'state': 'NSW', 'population': 8547373, 'energy_consumption_pj': 1402.4}, {'financial_year': '2020-21', 'state': 'QLD', 'population': 5217653, 'energy_consumption_pj': 1445.2}, {'financial_year': '2020-21', 'state': 'WA', 'population': 2749864, 'energy_consumption_pj': 1246.5}, {'financial_year': '2020-21', 'state': 'SA', 'population': 1803192, 'energy_consumption_pj': 311.2}, {'financial_year': '2020-21', 'state': 'TAS', 'population': 567909, 'energy_consumption_pj': 103.0}, {'financial_year': '2020-21', 'state': 'NT', 'population': 249200, 'energy_consumption_pj': 145.1}]\n"
     ]
    }
   ],
   "source": [
    "d3_view = getview(\"population_consumption\")\n",
    "print(d3_view)"
   ]
  }
 ],
 "metadata": {
  "kernelspec": {
   "display_name": "Python 3.9.7 ('base')",
   "language": "python",
   "name": "python3"
  },
  "language_info": {
   "codemirror_mode": {
    "name": "ipython",
    "version": 3
   },
   "file_extension": ".py",
   "mimetype": "text/x-python",
   "name": "python",
   "nbconvert_exporter": "python",
   "pygments_lexer": "ipython3",
   "version": "3.9.7"
  },
  "orig_nbformat": 4,
  "vscode": {
   "interpreter": {
    "hash": "a5d6c2be6262c78dadbf075e7ed7eef3fc1090c1044fdcff36d11e01ba01e819"
   }
  }
 },
 "nbformat": 4,
 "nbformat_minor": 2
}
